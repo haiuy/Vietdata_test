{
 "cells": [
  {
   "cell_type": "markdown",
   "metadata": {},
   "source": [
    "*pip install scipy numpy*"
   ]
  },
  {
   "cell_type": "markdown",
   "metadata": {},
   "source": [
    "## **Solving the equation using scipy lib** <br>\n",
    " - Defining the function (II) <br>\n",
    " - Input the function inside the **fsolve** and provide the initial guess <br>"
   ]
  },
  {
   "cell_type": "code",
   "execution_count": 56,
   "metadata": {},
   "outputs": [
    {
     "name": "stdout",
     "output_type": "stream",
     "text": [
      "p0 = [0.1368721]\n",
      "delta_p [0.02625579]\n"
     ]
    }
   ],
   "source": [
    "# Root finding using fsolve\n",
    "import numpy as np\n",
    "from scipy.optimize import fsolve\n",
    "# Defining the function whose root we are looking for\n",
    "def product_func(p0):\n",
    "  product = 1\n",
    "  for i in range(1, 11):\n",
    "    term = 1 - p0 - (i - 1) * (0.3 - 2*p0)\n",
    "    product = product*term\n",
    "  return product - 0.05\n",
    "\n",
    "# Find the root of the equation\n",
    "p0_solution = fsolve(product_func, 0.3)  # Initial guess of 0.5\n",
    "delta_p = 0.3 - 2*p0_solution\n",
    "print(\"p0 =\", p0_solution)\n",
    "print(\"delta_p\", delta_p)"
   ]
  },
  {
   "cell_type": "markdown",
   "metadata": {},
   "source": [
    "### **Comparing the winning probability after 10 trials between the two models** <br>\n",
    "- The static odds model yields the probability of **80% comparing to 95%** of the dynamic one."
   ]
  },
  {
   "cell_type": "code",
   "execution_count": 64,
   "metadata": {},
   "outputs": [
    {
     "name": "stdout",
     "output_type": "stream",
     "text": [
      "Probability of winning once in 10 trials without delta_p: 0.8031255956592774\n"
     ]
    }
   ],
   "source": [
    "# Probability of winning once in 10 trials without delta_p\n",
    "product = 1\n",
    "p=0.15 # probability of winning once\n",
    "for i in range(1, 11):\n",
    "    term =  (1 - p)\n",
    "    product = product*term\n",
    "print(\"Probability of winning once in 10 trials without delta_p:\",1-product)"
   ]
  },
  {
   "cell_type": "code",
   "execution_count": 65,
   "metadata": {},
   "outputs": [
    {
     "name": "stdout",
     "output_type": "stream",
     "text": [
      "Probability of winning once in 10 trials with delta_p: 0.9499999999999954\n"
     ]
    }
   ],
   "source": [
    "# Probability of winning once in 10 trials with delta_p\n",
    "product = 1\n",
    "p0=p0_solution[0] # probability of winning once\n",
    "for i in range(1, 11):\n",
    "    term =  1 - p0 - (i - 1) * (0.3 - 2*p0)\n",
    "    product = product*term\n",
    "print(\"Probability of winning once in 10 trials with delta_p:\",1-product)"
   ]
  },
  {
   "cell_type": "markdown",
   "metadata": {},
   "source": [
    "### **Testing the average probability over a large number of trials** <br>\n",
    "- The average success rate of 100 hitting times is equal to **15%**."
   ]
  },
  {
   "cell_type": "code",
   "execution_count": null,
   "metadata": {},
   "outputs": [
    {
     "name": "stdout",
     "output_type": "stream",
     "text": [
      "Number list: [array([0.1368721]), array([0.13713731]), array([0.13740252]), array([0.13766773]), array([0.13793294]), array([0.13819815]), array([0.13846336]), array([0.13872857]), array([0.13899378]), array([0.13925899]), array([0.1395242]), array([0.13978941]), array([0.14005462]), array([0.14031983]), array([0.14058504]), array([0.14085025]), array([0.14111546]), array([0.14138067]), array([0.14164588]), array([0.14191109]), array([0.1421763]), array([0.14244151]), array([0.14270672]), array([0.14297193]), array([0.14323714]), array([0.14350235]), array([0.14376756]), array([0.14403277]), array([0.14429798]), array([0.14456319]), array([0.1448284]), array([0.14509361]), array([0.14535882]), array([0.14562403]), array([0.14588924]), array([0.14615445]), array([0.14641966]), array([0.14668487]), array([0.14695008]), array([0.14721529]), array([0.1474805]), array([0.14774571]), array([0.14801092]), array([0.14827613]), array([0.14854134]), array([0.14880655]), array([0.14907176]), array([0.14933697]), array([0.14960218]), array([0.14986739]), array([0.15013261]), array([0.15039782]), array([0.15066303]), array([0.15092824]), array([0.15119345]), array([0.15145866]), array([0.15172387]), array([0.15198908]), array([0.15225429]), array([0.1525195]), array([0.15278471]), array([0.15304992]), array([0.15331513]), array([0.15358034]), array([0.15384555]), array([0.15411076]), array([0.15437597]), array([0.15464118]), array([0.15490639]), array([0.1551716]), array([0.15543681]), array([0.15570202]), array([0.15596723]), array([0.15623244]), array([0.15649765]), array([0.15676286]), array([0.15702807]), array([0.15729328]), array([0.15755849]), array([0.1578237]), array([0.15808891]), array([0.15835412]), array([0.15861933]), array([0.15888454]), array([0.15914975]), array([0.15941496]), array([0.15968017]), array([0.15994538]), array([0.16021059]), array([0.1604758]), array([0.16074101]), array([0.16100622]), array([0.16127143]), array([0.16153664]), array([0.16180185]), array([0.16206706]), array([0.16233227]), array([0.16259748]), array([0.16286269]), array([0.1631279])]\n",
      "Average: [0.15]\n"
     ]
    }
   ],
   "source": [
    "# Testing the average of the solution over n trials\n",
    "n = 100  # Specify the number of values you want\n",
    "number_list = [p0_solution[0] +  (delta_p*i)*(1/(n-1)) for i in range(0,n)]\n",
    "\n",
    "# Calculate the average\n",
    "average = sum(number_list) / len(number_list)\n",
    "\n",
    "# Print the results\n",
    "print(\"Number list:\", number_list)\n",
    "print(\"Average:\", average)"
   ]
  }
 ],
 "metadata": {
  "kernelspec": {
   "display_name": "base",
   "language": "python",
   "name": "python3"
  },
  "language_info": {
   "codemirror_mode": {
    "name": "ipython",
    "version": 3
   },
   "file_extension": ".py",
   "mimetype": "text/x-python",
   "name": "python",
   "nbconvert_exporter": "python",
   "pygments_lexer": "ipython3",
   "version": "3.11.7"
  }
 },
 "nbformat": 4,
 "nbformat_minor": 2
}
